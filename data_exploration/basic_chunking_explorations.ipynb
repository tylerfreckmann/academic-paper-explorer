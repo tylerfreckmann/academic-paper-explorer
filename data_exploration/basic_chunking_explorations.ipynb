{
 "cells": [
  {
   "cell_type": "code",
   "execution_count": 1,
   "metadata": {},
   "outputs": [],
   "source": [
    "import numpy as np\n",
    "import pandas as pd\n",
    "from openai import OpenAI"
   ]
  },
  {
   "cell_type": "code",
   "execution_count": 2,
   "metadata": {},
   "outputs": [],
   "source": [
    "client = OpenAI()"
   ]
  },
  {
   "cell_type": "code",
   "execution_count": 3,
   "metadata": {},
   "outputs": [],
   "source": [
    "def cosine_similarity(a, b):\n",
    "    return np.dot(a, b) / (np.linalg.norm(a) * np.linalg.norm(b))"
   ]
  },
  {
   "cell_type": "code",
   "execution_count": 4,
   "metadata": {},
   "outputs": [],
   "source": [
    "df = pd.read_csv('papers_embedded.csv', index_col=0)"
   ]
  },
  {
   "cell_type": "code",
   "execution_count": 5,
   "metadata": {},
   "outputs": [
    {
     "data": {
      "text/html": [
       "<div>\n",
       "<style scoped>\n",
       "    .dataframe tbody tr th:only-of-type {\n",
       "        vertical-align: middle;\n",
       "    }\n",
       "\n",
       "    .dataframe tbody tr th {\n",
       "        vertical-align: top;\n",
       "    }\n",
       "\n",
       "    .dataframe thead th {\n",
       "        text-align: right;\n",
       "    }\n",
       "</style>\n",
       "<table border=\"1\" class=\"dataframe\">\n",
       "  <thead>\n",
       "    <tr style=\"text-align: right;\">\n",
       "      <th></th>\n",
       "      <th>text</th>\n",
       "      <th>n_tokens</th>\n",
       "      <th>embedding</th>\n",
       "    </tr>\n",
       "  </thead>\n",
       "  <tbody>\n",
       "    <tr>\n",
       "      <th>0</th>\n",
       "      <td>573 \\n\\nBIT - SERIAL NEURAL  NETWORKS \\n\\nAlan...</td>\n",
       "      <td>7959.0</td>\n",
       "      <td>[0.007057549431920052, 0.022557897493243217, -...</td>\n",
       "    </tr>\n",
       "    <tr>\n",
       "      <th>1</th>\n",
       "      <td>1 \\n\\nCONNECTIVITY VERSUS ENTROPY \\n\\nYaser  S...</td>\n",
       "      <td>5220.0</td>\n",
       "      <td>[0.017669761553406715, -0.02821267582476139, 0...</td>\n",
       "    </tr>\n",
       "    <tr>\n",
       "      <th>2</th>\n",
       "      <td>278 \\n\\nTHE HOPFIELD MODEL WITH MUL TI-LEVEL N...</td>\n",
       "      <td>4445.0</td>\n",
       "      <td>[0.019363459199666977, -0.004505184479057789, ...</td>\n",
       "    </tr>\n",
       "    <tr>\n",
       "      <th>3</th>\n",
       "      <td>442 \\n\\nAlan  Lapedes \\nRobert  Farber \\n\\nThe...</td>\n",
       "      <td>7942.0</td>\n",
       "      <td>[0.006703744176775217, -0.002929536160081625, ...</td>\n",
       "    </tr>\n",
       "    <tr>\n",
       "      <th>4</th>\n",
       "      <td>740 \\n\\nSPATIAL  ORGANIZATION  OF  NEURAL  NEn...</td>\n",
       "      <td>7980.0</td>\n",
       "      <td>[-0.019718386232852936, 0.021891098469495773, ...</td>\n",
       "    </tr>\n",
       "  </tbody>\n",
       "</table>\n",
       "</div>"
      ],
      "text/plain": [
       "                                                text  n_tokens  \\\n",
       "0  573 \\n\\nBIT - SERIAL NEURAL  NETWORKS \\n\\nAlan...    7959.0   \n",
       "1  1 \\n\\nCONNECTIVITY VERSUS ENTROPY \\n\\nYaser  S...    5220.0   \n",
       "2  278 \\n\\nTHE HOPFIELD MODEL WITH MUL TI-LEVEL N...    4445.0   \n",
       "3  442 \\n\\nAlan  Lapedes \\nRobert  Farber \\n\\nThe...    7942.0   \n",
       "4  740 \\n\\nSPATIAL  ORGANIZATION  OF  NEURAL  NEn...    7980.0   \n",
       "\n",
       "                                           embedding  \n",
       "0  [0.007057549431920052, 0.022557897493243217, -...  \n",
       "1  [0.017669761553406715, -0.02821267582476139, 0...  \n",
       "2  [0.019363459199666977, -0.004505184479057789, ...  \n",
       "3  [0.006703744176775217, -0.002929536160081625, ...  \n",
       "4  [-0.019718386232852936, 0.021891098469495773, ...  "
      ]
     },
     "execution_count": 5,
     "metadata": {},
     "output_type": "execute_result"
    }
   ],
   "source": [
    "df.head()"
   ]
  },
  {
   "cell_type": "code",
   "execution_count": 6,
   "metadata": {},
   "outputs": [],
   "source": [
    "df.dropna(inplace=True)"
   ]
  },
  {
   "cell_type": "code",
   "execution_count": 7,
   "metadata": {},
   "outputs": [
    {
     "data": {
      "text/plain": [
       "text         0\n",
       "n_tokens     0\n",
       "embedding    0\n",
       "dtype: int64"
      ]
     },
     "execution_count": 7,
     "metadata": {},
     "output_type": "execute_result"
    }
   ],
   "source": [
    "df.isna().sum()"
   ]
  },
  {
   "cell_type": "code",
   "execution_count": 8,
   "metadata": {},
   "outputs": [],
   "source": [
    "df['embedding'] = df['embedding'].apply(eval).apply(np.array)"
   ]
  },
  {
   "cell_type": "code",
   "execution_count": 9,
   "metadata": {},
   "outputs": [
    {
     "data": {
      "text/html": [
       "<div>\n",
       "<style scoped>\n",
       "    .dataframe tbody tr th:only-of-type {\n",
       "        vertical-align: middle;\n",
       "    }\n",
       "\n",
       "    .dataframe tbody tr th {\n",
       "        vertical-align: top;\n",
       "    }\n",
       "\n",
       "    .dataframe thead th {\n",
       "        text-align: right;\n",
       "    }\n",
       "</style>\n",
       "<table border=\"1\" class=\"dataframe\">\n",
       "  <thead>\n",
       "    <tr style=\"text-align: right;\">\n",
       "      <th></th>\n",
       "      <th>text</th>\n",
       "      <th>n_tokens</th>\n",
       "      <th>embedding</th>\n",
       "    </tr>\n",
       "  </thead>\n",
       "  <tbody>\n",
       "    <tr>\n",
       "      <th>0</th>\n",
       "      <td>573 \\n\\nBIT - SERIAL NEURAL  NETWORKS \\n\\nAlan...</td>\n",
       "      <td>7959.0</td>\n",
       "      <td>[0.007057549431920052, 0.022557897493243217, -...</td>\n",
       "    </tr>\n",
       "    <tr>\n",
       "      <th>1</th>\n",
       "      <td>1 \\n\\nCONNECTIVITY VERSUS ENTROPY \\n\\nYaser  S...</td>\n",
       "      <td>5220.0</td>\n",
       "      <td>[0.017669761553406715, -0.02821267582476139, 0...</td>\n",
       "    </tr>\n",
       "    <tr>\n",
       "      <th>2</th>\n",
       "      <td>278 \\n\\nTHE HOPFIELD MODEL WITH MUL TI-LEVEL N...</td>\n",
       "      <td>4445.0</td>\n",
       "      <td>[0.019363459199666977, -0.004505184479057789, ...</td>\n",
       "    </tr>\n",
       "    <tr>\n",
       "      <th>3</th>\n",
       "      <td>442 \\n\\nAlan  Lapedes \\nRobert  Farber \\n\\nThe...</td>\n",
       "      <td>7942.0</td>\n",
       "      <td>[0.006703744176775217, -0.002929536160081625, ...</td>\n",
       "    </tr>\n",
       "    <tr>\n",
       "      <th>4</th>\n",
       "      <td>740 \\n\\nSPATIAL  ORGANIZATION  OF  NEURAL  NEn...</td>\n",
       "      <td>7980.0</td>\n",
       "      <td>[-0.019718386232852936, 0.021891098469495773, ...</td>\n",
       "    </tr>\n",
       "  </tbody>\n",
       "</table>\n",
       "</div>"
      ],
      "text/plain": [
       "                                                text  n_tokens  \\\n",
       "0  573 \\n\\nBIT - SERIAL NEURAL  NETWORKS \\n\\nAlan...    7959.0   \n",
       "1  1 \\n\\nCONNECTIVITY VERSUS ENTROPY \\n\\nYaser  S...    5220.0   \n",
       "2  278 \\n\\nTHE HOPFIELD MODEL WITH MUL TI-LEVEL N...    4445.0   \n",
       "3  442 \\n\\nAlan  Lapedes \\nRobert  Farber \\n\\nThe...    7942.0   \n",
       "4  740 \\n\\nSPATIAL  ORGANIZATION  OF  NEURAL  NEn...    7980.0   \n",
       "\n",
       "                                           embedding  \n",
       "0  [0.007057549431920052, 0.022557897493243217, -...  \n",
       "1  [0.017669761553406715, -0.02821267582476139, 0...  \n",
       "2  [0.019363459199666977, -0.004505184479057789, ...  \n",
       "3  [0.006703744176775217, -0.002929536160081625, ...  \n",
       "4  [-0.019718386232852936, 0.021891098469495773, ...  "
      ]
     },
     "execution_count": 9,
     "metadata": {},
     "output_type": "execute_result"
    }
   ],
   "source": [
    "df.head()"
   ]
  },
  {
   "cell_type": "code",
   "execution_count": 10,
   "metadata": {},
   "outputs": [
    {
     "data": {
      "text/plain": [
       "text          object\n",
       "n_tokens     float64\n",
       "embedding     object\n",
       "dtype: object"
      ]
     },
     "execution_count": 10,
     "metadata": {},
     "output_type": "execute_result"
    }
   ],
   "source": [
    "df.dtypes"
   ]
  },
  {
   "cell_type": "code",
   "execution_count": 11,
   "metadata": {},
   "outputs": [],
   "source": [
    "def create_context(\n",
    "    question, max_len=8000\n",
    "):\n",
    "    \"\"\"\n",
    "    Create a context for a question by finding the most similar context from the dataframe\n",
    "    \"\"\"\n",
    "\n",
    "    # Get the embeddings for the question\n",
    "    q_embeddings = client.embeddings.create(input=question, model='text-embedding-3-small').data[0].embedding\n",
    "\n",
    "    # Get the distances from the embeddings\n",
    "    df['distances'] = df['embedding'].apply(lambda x: cosine_similarity(x, q_embeddings))\n",
    "\n",
    "\n",
    "    returns = []\n",
    "    cur_len = 0\n",
    "\n",
    "    # Sort by distance and add the text to the context until the context is too long\n",
    "    for _, row in df.sort_values('distances', ascending=False).iterrows():\n",
    "\n",
    "        # Add the length of the text to the current length\n",
    "        cur_len += row['n_tokens'] + 4\n",
    "\n",
    "        # If the context is too long, break\n",
    "        if cur_len > max_len:\n",
    "            break\n",
    "\n",
    "        # Else add it to the text that is being returned\n",
    "        returns.append(row[\"text\"])\n",
    "    \n",
    "    print(len(returns))\n",
    "\n",
    "    # Return the context\n",
    "    return \"\\n\\n###\\n\\n\".join(returns)"
   ]
  },
  {
   "cell_type": "code",
   "execution_count": 12,
   "metadata": {},
   "outputs": [
    {
     "name": "stdout",
     "output_type": "stream",
     "text": [
      "1\n"
     ]
    }
   ],
   "source": [
    "context = create_context(\"Can you summarize the main findings of 'CRoSS: Diffusion Model Makes Controllable, Robust and Secure Image Steganography'?\")"
   ]
  },
  {
   "cell_type": "code",
   "execution_count": 20,
   "metadata": {},
   "outputs": [
    {
     "name": "stdout",
     "output_type": "stream",
     "text": [
      "CRoSS: Diffusion Model Makes\n",
      "Controllable, Robust and Secure Image Steganography\n",
      "Jiwen Yu1\n",
      "Xuanyu Zhang1\n",
      "Youmin Xu1,2\n",
      "Jian Zhang1†\n",
      "1 Peking University Shenzhen Graduate School\n",
      "2 Peng Cheng Laboratory\n",
      "Abstract\n",
      "Current image steganography techniques are mainly focused on cover-based meth-\n",
      "ods, which commonly have the risk of leaking secret images and poor robustness\n",
      "against degraded container images. Inspired by recent developments in diffu-\n",
      "sion models, we discovered that two properties of diffusion models, the ability to\n",
      "achieve translation between two images without training, and robustness to noisy\n",
      "data, can be used to improve security and natural robustness in image steganogra-\n",
      "phy tasks. For the choice of diffusion model, we selected Stable Diffusion, a type\n",
      "of conditional diffusion model, and fully utilized the latest tools from open-source\n",
      "communities, such as LoRAs and ControlNets, to improve the controllability and\n",
      "diversity of container images. In summary, we propose a novel i\n"
     ]
    }
   ],
   "source": [
    "print(context[:1000])"
   ]
  },
  {
   "cell_type": "code",
   "execution_count": 21,
   "metadata": {},
   "outputs": [],
   "source": [
    "q_embeddings = client.embeddings.create(input=\"Can you summarize the main findings of 'CRoSS: Diffusion Model Makes Controllable, Robust and Secure Image Steganography'?\", model='text-embedding-3-small').data[0].embedding"
   ]
  },
  {
   "cell_type": "code",
   "execution_count": 22,
   "metadata": {},
   "outputs": [],
   "source": [
    "df['distances'] = df['embedding'].apply(lambda x: cosine_similarity(x, q_embeddings))"
   ]
  },
  {
   "cell_type": "code",
   "execution_count": 23,
   "metadata": {},
   "outputs": [],
   "source": [
    "sorted = df.sort_values('distances', ascending=False)"
   ]
  },
  {
   "cell_type": "code",
   "execution_count": 24,
   "metadata": {},
   "outputs": [
    {
     "data": {
      "text/html": [
       "<div>\n",
       "<style scoped>\n",
       "    .dataframe tbody tr th:only-of-type {\n",
       "        vertical-align: middle;\n",
       "    }\n",
       "\n",
       "    .dataframe tbody tr th {\n",
       "        vertical-align: top;\n",
       "    }\n",
       "\n",
       "    .dataframe thead th {\n",
       "        text-align: right;\n",
       "    }\n",
       "</style>\n",
       "<table border=\"1\" class=\"dataframe\">\n",
       "  <thead>\n",
       "    <tr style=\"text-align: right;\">\n",
       "      <th></th>\n",
       "      <th>text</th>\n",
       "      <th>n_tokens</th>\n",
       "      <th>embedding</th>\n",
       "      <th>distances</th>\n",
       "    </tr>\n",
       "  </thead>\n",
       "  <tbody>\n",
       "    <tr>\n",
       "      <th>22994</th>\n",
       "      <td>CRoSS: Diffusion Model Makes\\nControllable, Ro...</td>\n",
       "      <td>7962.0</td>\n",
       "      <td>[0.020469989627599716, 0.0027696345932781696, ...</td>\n",
       "      <td>0.597551</td>\n",
       "    </tr>\n",
       "    <tr>\n",
       "      <th>6946</th>\n",
       "      <td>Hiding Images in Plain Sight:\\n\\nDeep Steganog...</td>\n",
       "      <td>7929.0</td>\n",
       "      <td>[0.0006676532211713493, 0.007436826359480619, ...</td>\n",
       "      <td>0.580511</td>\n",
       "    </tr>\n",
       "    <tr>\n",
       "      <th>7279</th>\n",
       "      <td>Generating steganographic images via adversari...</td>\n",
       "      <td>7929.0</td>\n",
       "      <td>[0.04593009501695633, 0.0037568772677332163, 0...</td>\n",
       "      <td>0.561688</td>\n",
       "    </tr>\n",
       "    <tr>\n",
       "      <th>17290</th>\n",
       "      <td>Hiding Images in Deep Probabilistic Models\\nHa...</td>\n",
       "      <td>7925.0</td>\n",
       "      <td>[-0.0010277237743139267, -0.02994450181722641,...</td>\n",
       "      <td>0.501040</td>\n",
       "    </tr>\n",
       "    <tr>\n",
       "      <th>22467</th>\n",
       "      <td>Collaborative Score Distillation\\nfor Consiste...</td>\n",
       "      <td>2115.0</td>\n",
       "      <td>[0.024803483858704567, 0.03232729062438011, 0....</td>\n",
       "      <td>0.475720</td>\n",
       "    </tr>\n",
       "  </tbody>\n",
       "</table>\n",
       "</div>"
      ],
      "text/plain": [
       "                                                    text  n_tokens  \\\n",
       "22994  CRoSS: Diffusion Model Makes\\nControllable, Ro...    7962.0   \n",
       "6946   Hiding Images in Plain Sight:\\n\\nDeep Steganog...    7929.0   \n",
       "7279   Generating steganographic images via adversari...    7929.0   \n",
       "17290  Hiding Images in Deep Probabilistic Models\\nHa...    7925.0   \n",
       "22467  Collaborative Score Distillation\\nfor Consiste...    2115.0   \n",
       "\n",
       "                                               embedding  distances  \n",
       "22994  [0.020469989627599716, 0.0027696345932781696, ...   0.597551  \n",
       "6946   [0.0006676532211713493, 0.007436826359480619, ...   0.580511  \n",
       "7279   [0.04593009501695633, 0.0037568772677332163, 0...   0.561688  \n",
       "17290  [-0.0010277237743139267, -0.02994450181722641,...   0.501040  \n",
       "22467  [0.024803483858704567, 0.03232729062438011, 0....   0.475720  "
      ]
     },
     "execution_count": 24,
     "metadata": {},
     "output_type": "execute_result"
    }
   ],
   "source": [
    "sorted.head()"
   ]
  },
  {
   "cell_type": "code",
   "execution_count": 25,
   "metadata": {},
   "outputs": [],
   "source": [
    "def answer_question(\n",
    "    model=\"gpt-4o-mini\",\n",
    "    question=\"Can you summarize the main findings of 'CRoSS: Diffusion Model Makes Controllable, Robust and Secure Image Steganography'?\",\n",
    "    max_len=8000,\n",
    "    debug=False,\n",
    "    max_tokens=150,\n",
    "    stop_sequence=None\n",
    "):\n",
    "    \"\"\"\n",
    "    Answer a question based on the most similar context from the dataframe texts\n",
    "    \"\"\"\n",
    "    context = create_context(\n",
    "        question,\n",
    "        max_len=max_len\n",
    "    )\n",
    "    # If debug, print the raw model response\n",
    "    if debug:\n",
    "        print(\"Context:\\n\" + context)\n",
    "        print(\"\\n\\n\")\n",
    "\n",
    "    try:\n",
    "        # Create a chat completion using the question and context\n",
    "        response = client.chat.completions.create(\n",
    "            model=model,\n",
    "            messages=[\n",
    "                {\"role\": \"system\", \"content\": \"Answer the question based on the context below, and if the question can't be answered based on the context, say \\\"I don't know\\\"\\n\\n\"},\n",
    "                {\"role\": \"user\", \"content\": f\"Question: {question}\\n\\n---\\n\\nContext: {context}\"}\n",
    "            ]\n",
    "            # temperature=0,\n",
    "            # max_tokens=max_tokens,\n",
    "            # top_p=1,\n",
    "            # frequency_penalty=0,\n",
    "            # presence_penalty=0,\n",
    "            # stop=stop_sequence,\n",
    "        )\n",
    "        return response.choices[0].message.content\n",
    "    except Exception as e:\n",
    "        print(e)\n",
    "        return \"\""
   ]
  },
  {
   "cell_type": "code",
   "execution_count": 26,
   "metadata": {},
   "outputs": [
    {
     "name": "stdout",
     "output_type": "stream",
     "text": [
      "1\n"
     ]
    }
   ],
   "source": [
    "answer = answer_question()"
   ]
  },
  {
   "cell_type": "code",
   "execution_count": 27,
   "metadata": {},
   "outputs": [
    {
     "name": "stdout",
     "output_type": "stream",
     "text": [
      "The main findings of the paper \"CRoSS: Diffusion Model Makes Controllable, Robust and Secure Image Steganography\" highlight the development of a novel image steganography framework that leverages diffusion models, specifically the Stable Diffusion model, to enhance controllability, robustness, and security compared to traditional cover-based methods. \n",
      "\n",
      "Key points include:\n",
      "\n",
      "1. **Improved Security**: Traditional cover-based steganography often leaks information about the secret image due to artifacts left in the container image. The CRoSS framework utilizes the properties of diffusion models to create a coverless steganography approach that makes it difficult for unauthorized receivers to infer any hidden data.\n",
      "\n",
      "2. **Enhanced Controllability**: By incorporating techniques such as LoRAs and ControlNets from the Stable Diffusion community, the framework allows users to control the content of the container images more effectively while maintaining high visual quality.\n",
      "\n",
      "3. **Robustness to Deterioration**: The framework displays strong robustness against various types of degradation and noise in the container images, allowing for effective recovery of the secret image post-transmission.\n",
      "\n",
      "4. **Zero Additional Training**: The approach obtains these benefits without requiring any additional training for the diffusion model, which is a significant advantage over existing methods that typically rely on extensive model training.\n",
      "\n",
      "5. **Experimental Validation**: The authors conducted comprehensive experiments demonstrating the superior performance of CRoSS in terms of security, controllability, and robustness compared to several existing methods, making it a promising advancement in the field of image steganography.\n",
      "\n",
      "In summary, CRoSS represents a significant step forward for secure image steganography by combining cutting-edge diffusion models with effective steganographic techniques.\n"
     ]
    }
   ],
   "source": [
    "print(answer)"
   ]
  },
  {
   "cell_type": "code",
   "execution_count": null,
   "metadata": {},
   "outputs": [],
   "source": []
  }
 ],
 "metadata": {
  "kernelspec": {
   "display_name": "academic-paper-explorer",
   "language": "python",
   "name": "python3"
  },
  "language_info": {
   "codemirror_mode": {
    "name": "ipython",
    "version": 3
   },
   "file_extension": ".py",
   "mimetype": "text/x-python",
   "name": "python",
   "nbconvert_exporter": "python",
   "pygments_lexer": "ipython3",
   "version": "3.12.5"
  }
 },
 "nbformat": 4,
 "nbformat_minor": 2
}
